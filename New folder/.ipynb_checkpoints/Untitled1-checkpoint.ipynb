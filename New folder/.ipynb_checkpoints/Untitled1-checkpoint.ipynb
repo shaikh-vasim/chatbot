{
 "cells": [
  {
   "cell_type": "code",
   "execution_count": 1,
   "id": "fifty-particular",
   "metadata": {},
   "outputs": [
    {
     "name": "stdout",
     "output_type": "stream",
     "text": [
      "WARNING:tensorflow:From c:\\python\\lib\\site-packages\\tensorflow\\python\\compat\\v2_compat.py:96: disable_resource_variables (from tensorflow.python.ops.variable_scope) is deprecated and will be removed in a future version.\n",
      "Instructions for updating:\n",
      "non-resource variables are not supported in the long term\n",
      "curses is not supported on this machine (please install/reinstall curses for an optimal experience)\n"
     ]
    }
   ],
   "source": []
  },
  {
   "cell_type": "code",
   "execution_count": 2,
   "id": "presidential-virginia",
   "metadata": {},
   "outputs": [],
   "source": [
    "import pickle\n",
    "import json\n",
    "import random\n",
    "import re\n",
    "import tensorflow\n",
    "import tflearn\n",
    "import numpy\n",
    "import nltk\n",
    "from nltk.stem.lancaster import LancasterStemmer\n",
    "stemmer = LancasterStemmer()\n",
    "\n",
    "\n",
    "with open(\"intents.json\") as file:\n",
    "    data = json.load(file)\n",
    "\n",
    "\n",
    "words = []\n",
    "labels = []\n",
    "docs_x = []\n",
    "docs_y = []\n",
    "\n",
    "for intent in data[\"intents\"]:\n",
    "    for pattern in intent[\"patterns\"]:\n",
    "        wrds = nltk.word_tokenize(pattern)\n",
    "        words.extend(wrds)\n",
    "        docs_x.append(wrds)\n",
    "        docs_y.append(intent[\"tag\"])\n",
    "\n",
    "    if intent[\"tag\"] not in labels:\n",
    "        labels.append(intent[\"tag\"])\n",
    "\n",
    "words = [stemmer.stem(w.lower()) for w in words if w != \"?\"]\n",
    "words = sorted(list(set(words)))\n",
    "\n",
    "labels = sorted(labels)\n",
    "\n",
    "training = []\n",
    "output = []\n",
    "\n",
    "out_empty = [0 for _ in range(len(labels))]\n",
    "\n",
    "for x, doc in enumerate(docs_x):\n",
    "    bag = []\n",
    "\n",
    "    wrds = [stemmer.stem(w.lower()) for w in doc]\n",
    "\n",
    "    for w in words:\n",
    "        if w in wrds:\n",
    "            bag.append(1)\n",
    "        else:\n",
    "            bag.append(0)\n",
    "\n",
    "    output_row = out_empty[:]\n",
    "    output_row[labels.index(docs_y[x])] = 1\n",
    "\n",
    "    training.append(bag)\n",
    "    output.append(output_row)\n",
    "\n",
    "training = numpy.array(training)\n",
    "output = numpy.array(output)\n",
    "\n",
    "with open(\"data.pickle\", \"wb\") as f:\n",
    "    pickle.dump((words, labels, training, output), f)\n",
    "    \n",
    "net = tflearn.input_data(shape=[None, len(training[0])])\n",
    "net = tflearn.fully_connected(net, 8)\n",
    "net = tflearn.fully_connected(net, 8)\n",
    "net = tflearn.fully_connected(net, len(output[0]), activation=\"softmax\")\n",
    "net = tflearn.regression(net)\n",
    "\n",
    "model = tflearn.DNN(net)\n",
    "\n",
    "model.fit(training, output, n_epoch=10000, batch_size=8, show_metric=True)\n",
    "model.save(\"model.tflearn\")\n"
   ]
  },
  {
   "cell_type": "code",
   "execution_count": 3,
   "id": "comfortable-annual",
   "metadata": {},
   "outputs": [
    {
     "name": "stdout",
     "output_type": "stream",
     "text": [
      "WARNING:tensorflow:From c:\\python\\lib\\site-packages\\tflearn\\initializations.py:165: calling TruncatedNormal.__init__ (from tensorflow.python.ops.init_ops) with dtype is deprecated and will be removed in a future version.\n",
      "Instructions for updating:\n",
      "Call initializer instance with the dtype argument instead of passing it to the constructor\n"
     ]
    }
   ],
   "source": []
  },
  {
   "cell_type": "code",
   "execution_count": 5,
   "id": "anonymous-degree",
   "metadata": {},
   "outputs": [
    {
     "name": "stdout",
     "output_type": "stream",
     "text": [
      "Training Step: 383799  | total loss: \u001b[1m\u001b[32m0.17194\u001b[0m\u001b[0m | time: 0.192s\n",
      "| Adam | epoch: 10100 | loss: 0.17194 - acc: 0.9042 -- iter: 296/304\n",
      "Training Step: 383800  | total loss: \u001b[1m\u001b[32m0.17052\u001b[0m\u001b[0m | time: 0.200s\n",
      "| Adam | epoch: 10100 | loss: 0.17052 - acc: 0.9138 -- iter: 304/304\n",
      "--\n",
      "INFO:tensorflow:E:\\chat\\chatbot s4s\\Flask_NLP_ChatBot-master\\New folder\\model.tflearn is not in all_model_checkpoint_paths. Manually adding it.\n"
     ]
    }
   ],
   "source": []
  },
  {
   "cell_type": "code",
   "execution_count": 7,
   "id": "reflected-spyware",
   "metadata": {},
   "outputs": [
    {
     "name": "stdout",
     "output_type": "stream",
     "text": [
      "Start talking with the bot (type quit to stop)!\n",
      "You: hi\n",
      "Hello\n",
      "You: what is your name\n",
      "I'm Stella aka The S4S Superbot.\n",
      "You: s4s\n",
      "sorry plzz try agens.. !!! \n",
      "You: what is s4s\n",
      "sorry plzz try agens.. !!! \n",
      "You: founder of s4s \n",
      "The Founder of s4s is A Student like you, but now is anonymous!!\n",
      "You: tell me a jok\n",
      "o what if I don't know what 'Armageddon' means? It's not the end of the world.\n",
      "You: what is time\n",
      "Date and Time\n",
      "You: hlep me\n",
      "sorry plzz try agens.. !!! \n",
      "You: what is a future plan of s4s \n",
      "We have conducted several programs, webinars, quiz competitions and making further many other new activities in future.\n",
      "You: bye\n",
      "Have a nice day\n",
      "You: quit\n"
     ]
    }
   ],
   "source": [
    "\n",
    "# def bag_of_words(s, words):\n",
    "#     bag = [0 for _ in range(len(words))]\n",
    "\n",
    "#     s_words = nltk.word_tokenize(s)\n",
    "#     s_words = [stemmer.stem(word.lower()) for word in s_words]\n",
    "\n",
    "#     for se in s_words:\n",
    "#         for i, w in enumerate(words):\n",
    "#             if w == se:\n",
    "#                 bag[i] = 1\n",
    "\n",
    "#     return numpy.array(bag)\n",
    "\n",
    "\n",
    "# def chat():\n",
    "#     print(\"Start talking with the bot (type quit to stop)!\")\n",
    "#     while True:\n",
    "#         inp = input(\"You: \")\n",
    "#         if inp.lower() == \"quit\":\n",
    "#             break\n",
    "\n",
    "#         results = model.predict([bag_of_words(inp, words)])[0]\n",
    "#         results_index = numpy.argmax(results)\n",
    "#         # print\n",
    "#         tag = labels[results_index]\n",
    "#         if results[results_index] > 0.7:\n",
    "\n",
    "#             for tg in data[\"intents\"]:\n",
    "#                 if tg['tag'] == tag:\n",
    "#                     responses = tg['responses']\n",
    "\n",
    "#             print(random.choice(responses))\n",
    "\n",
    "#         else:\n",
    "#             print(\"sorry plzz try agens.. !!! \")\n",
    "\n",
    "\n",
    "# # chat()\n",
    "\n",
    "# def bag_of_words(s, words):\n",
    "#     bag = [0 for _ in range(len(words))]\n",
    "\n",
    "#     s_words = nltk.word_tokenize(s)\n",
    "#     s_words = [stemmer.stem(word.lower()) for word in s_words]\n",
    "\n",
    "#     for se in s_words:\n",
    "#         for i, w in enumerate(words):\n",
    "#             if w == se:\n",
    "#                 bag[i] = 1\n",
    "\n",
    "#     return numpy.array(bag)\n",
    "\n",
    "\n",
    "# def chat():\n",
    "#     print(\"Start talking with the bot (type quit to stop)!\")\n",
    "#     while True:\n",
    "#         inp = input(\"You: \")\n",
    "#         if inp.lower() == \"quit\":\n",
    "#             break\n",
    "\n",
    "#         results = model.predict([bag_of_words(inp, words)])[0]\n",
    "#         results_index = numpy.argmax(results)\n",
    "#         # print\n",
    "#         tag = labels[results_index]\n",
    "#         if results[results_index] > 0.7:\n",
    "\n",
    "#             for tg in data[\"intents\"]:\n",
    "#                 if tg['tag'] == tag:\n",
    "#                     responses = tg['responses']\n",
    "\n",
    "#             print(random.choice(responses))\n",
    "\n",
    "#         else:\n",
    "#             print(\"sorry plzz try agens.. !!! \")\n",
    "\n",
    "\n",
    "# chat()\n"
   ]
  }
 ],
 "metadata": {
  "kernelspec": {
   "display_name": "Python 3",
   "language": "python",
   "name": "python3"
  },
  "language_info": {
   "codemirror_mode": {
    "name": "ipython",
    "version": 3
   },
   "file_extension": ".py",
   "mimetype": "text/x-python",
   "name": "python",
   "nbconvert_exporter": "python",
   "pygments_lexer": "ipython3",
   "version": "3.7.6"
  },
  "varInspector": {
   "cols": {
    "lenName": 16,
    "lenType": 16,
    "lenVar": 40
   },
   "kernels_config": {
    "python": {
     "delete_cmd_postfix": "",
     "delete_cmd_prefix": "del ",
     "library": "var_list.py",
     "varRefreshCmd": "print(var_dic_list())"
    },
    "r": {
     "delete_cmd_postfix": ") ",
     "delete_cmd_prefix": "rm(",
     "library": "var_list.r",
     "varRefreshCmd": "cat(var_dic_list()) "
    }
   },
   "types_to_exclude": [
    "module",
    "function",
    "builtin_function_or_method",
    "instance",
    "_Feature"
   ],
   "window_display": false
  }
 },
 "nbformat": 4,
 "nbformat_minor": 5
}
